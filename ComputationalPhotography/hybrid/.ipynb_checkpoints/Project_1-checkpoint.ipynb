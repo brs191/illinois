{
 "cells": [
  {
   "cell_type": "markdown",
   "metadata": {},
   "source": [
    "# Programming Project #1: Hybrid Images"
   ]
  },
  {
   "cell_type": "markdown",
   "metadata": {},
   "source": [
    "## CS445: Computational Photography - Spring 2020"
   ]
  },
  {
   "cell_type": "markdown",
   "metadata": {},
   "source": [
    "### Part I: Hybrid Images"
   ]
  },
  {
   "cell_type": "code",
   "execution_count": null,
   "metadata": {},
   "outputs": [],
   "source": [
    "!pip install opencv-python\n",
    "!pip install opencv-contrib-python\n",
    "!pip install pillow\n",
    "!pip install matplotlib\n",
    "import cv2\n",
    "\n",
    "import numpy as np\n",
    "from matplotlib.colors import LogNorm\n",
    "from scipy import signal\n",
    "\n",
    "import utils"
   ]
  },
  {
   "cell_type": "code",
   "execution_count": null,
   "metadata": {},
   "outputs": [],
   "source": [
    "%matplotlib notebook\n",
    "import matplotlib.pyplot as plt"
   ]
  },
  {
   "cell_type": "code",
   "execution_count": null,
   "metadata": {},
   "outputs": [],
   "source": [
    "im1_file = './nutmeg.jpg'\n",
    "im2_file = './DerekPicture.jpg'\n",
    "\n",
    "im1 = cv2.imread(im1_file, cv2.IMREAD_GRAYSCALE)\n",
    "im2 = cv2.imread(im2_file, cv2.IMREAD_GRAYSCALE)"
   ]
  },
  {
   "cell_type": "code",
   "execution_count": null,
   "metadata": {},
   "outputs": [],
   "source": [
    "pts_im1 = utils.prompt_eye_selection(im1)"
   ]
  },
  {
   "cell_type": "code",
   "execution_count": null,
   "metadata": {},
   "outputs": [],
   "source": [
    "pts_im2 = utils.prompt_eye_selection(im2)"
   ]
  },
  {
   "cell_type": "code",
   "execution_count": null,
   "metadata": {},
   "outputs": [],
   "source": [
    "im1, im2 = utils.align_images(im1_file, im2_file,pts_im1,pts_im2,save_images=False)"
   ]
  },
  {
   "cell_type": "code",
   "execution_count": null,
   "metadata": {},
   "outputs": [],
   "source": [
    "# convert to grayscale\n",
    "im1 = cv2.cvtColor(im1, cv2.COLOR_BGR2GRAY) / 255.0\n",
    "im2 = cv2.cvtColor(im2, cv2.COLOR_BGR2GRAY) / 255.0"
   ]
  },
  {
   "cell_type": "code",
   "execution_count": null,
   "metadata": {},
   "outputs": [],
   "source": [
    "#Images sanity check\n",
    "fig, axes = plt.subplots(1, 2)\n",
    "axes[0].imshow(im1,cmap='gray')\n",
    "axes[0].set_title('Image 1'), axes[0].set_xticks([]), axes[0].set_yticks([])\n",
    "axes[1].imshow(im2,cmap='gray')\n",
    "axes[1].set_title('Image 2'), axes[1].set_xticks([]), axes[1].set_yticks([]);\n",
    "\n",
    "fig, axes = plt.subplots(1,2)\n",
    "plt.subplot(121)\n",
    "plt.imshow(np.log(np.abs(np.fft.fftshift(np.fft.fft2(im1)))))\n",
    "plt.title(\"FFT Image 1\")\n",
    "plt.show()\n",
    "\n",
    "plt.subplot(122)\n",
    "plt.imshow(np.log(np.abs(np.fft.fftshift(np.fft.fft2(im2)))))\n",
    "plt.title(\"FFT Image 2\")\n",
    "plt.show()\n"
   ]
  },
  {
   "cell_type": "code",
   "execution_count": null,
   "metadata": {},
   "outputs": [],
   "source": [
    "def hybridImage(im1, im2, cutoff_low, cutoff_high):\n",
    "    '''\n",
    "    Inputs:\n",
    "        im1:    RGB (height x width x 3) or a grayscale (height x width) image\n",
    "                as a numpy array.\n",
    "        im2:    RGB (height x width x 3) or a grayscale (height x width) image\n",
    "                as a numpy array.\n",
    "        cutoff_low: standard deviation for the low-pass filter\n",
    "        cutoff_high: standard deviation for the high-pass filter\n",
    "        \n",
    "    Output:\n",
    "        Return the combination of both images, one filtered with a low-pass filter\n",
    "        and the other with a high-pass filter.\n",
    "    '''\n",
    "#     cutoff_low = 4\n",
    "#     cutoff_high = 4\n",
    "    \n",
    "#     high_pass = im1 - signal.convolve2d(im1, utils.gaussian_kernel(cutoff_high, 3 * cutoff_high), mode='same', boundary='symm')\n",
    "#     low_pass = signal.convolve2d(im2, utils.gaussian_kernel(cutoff_low, 3 * cutoff_low), mode='same', boundary='symm')\n",
    "        \n",
    "#     fig, axes = plt.subplots(1, 2)\n",
    "#     axes[0].imshow(low_pass,cmap='gray')\n",
    "#     axes[0].set_title('high_pass Image 2'), axes[0].set_xticks([]), axes[0].set_yticks([])\n",
    "#     axes[1].imshow(im2,cmap='gray')\n",
    "#     axes[1].set_title('low_pass Image 1'), axes[1].set_xticks([]), axes[1].set_yticks([]);\n",
    "    high_passed = im1 - signal.convolve2d(im1, utils.gaussian_kernel(cutoff_high,3*cutoff_high),boundary='symm', mode='same')\n",
    "    low_passed = signal.convolve2d(im2, utils.gaussian_kernel(cutoff_low,3*cutoff_low),boundary='symm', mode='same')\n",
    "    \n",
    "    fig, axes = plt.subplots(1, 2)\n",
    "    axes[0].imshow(high_passed,cmap='gray')\n",
    "    axes[0].set_title('High passed'), axes[0].set_xticks([]), axes[0].set_yticks([])\n",
    "    axes[1].imshow(low_passed,cmap='gray')\n",
    "    axes[1].set_title('Low passed'), axes[1].set_xticks([]), axes[1].set_yticks([]);\n",
    "    \n",
    "    #Display Filtered FFT \n",
    "    fft_high = np.log(np.abs(np.fft.fftshift(np.fft.fft2(high_passed))))\n",
    "    fft_low = np.log(np.abs(np.fft.fftshift(np.fft.fft2(low_passed))))\n",
    "\n",
    "    fig, axes = plt.subplots(1, 2)\n",
    "    axes[0].imshow(fft_high)\n",
    "    axes[0].set_title('FFT High passed'), axes[0].set_xticks([]), axes[0].set_yticks([])\n",
    "    axes[1].imshow(fft_low)\n",
    "    axes[1].set_title('FFT Low passed'), axes[1].set_xticks([]), axes[1].set_yticks([]);\n",
    "    \n",
    "    return high_passed+low_passed"
   ]
  },
  {
   "cell_type": "code",
   "execution_count": null,
   "metadata": {},
   "outputs": [],
   "source": [
    "arbitrary_value = 4  # you should choose meaningful values; you might want to set to a fraction of image size\n",
    "cutoff_low = arbitrary_value\n",
    "cutoff_high = arbitrary_value\n",
    "\n",
    "im_hybrid = hybridImage(im1, im2, cutoff_low, cutoff_high)"
   ]
  },
  {
   "cell_type": "code",
   "execution_count": null,
   "metadata": {},
   "outputs": [],
   "source": [
    "# Optional: Select top left corner and bottom right corner to crop image\n",
    "# the function returns dictionary of \n",
    "# {\n",
    "#   'cropped_image': np.ndarray of shape H x W\n",
    "#   'crop_bound': np.ndarray of shape 2x2\n",
    "# }\n",
    "cropped_object = utils.interactive_crop(im_hybrid)"
   ]
  },
  {
   "cell_type": "markdown",
   "metadata": {},
   "source": [
    "### Part II: Image Enhancement"
   ]
  },
  {
   "cell_type": "markdown",
   "metadata": {},
   "source": [
    "##### Two out of three types of image enhancement are required.  Choose a good image to showcase each type and implement a method.  This code doesn't rely on the hybrid image part."
   ]
  },
  {
   "cell_type": "markdown",
   "metadata": {},
   "source": [
    "#### Contrast enhancement"
   ]
  },
  {
   "cell_type": "code",
   "execution_count": null,
   "metadata": {},
   "outputs": [],
   "source": []
  },
  {
   "cell_type": "markdown",
   "metadata": {},
   "source": [
    "#### Color enhancement "
   ]
  },
  {
   "cell_type": "code",
   "execution_count": null,
   "metadata": {},
   "outputs": [],
   "source": []
  },
  {
   "cell_type": "markdown",
   "metadata": {},
   "source": [
    "#### Color shift"
   ]
  },
  {
   "cell_type": "code",
   "execution_count": null,
   "metadata": {},
   "outputs": [],
   "source": []
  }
 ],
 "metadata": {
  "kernelspec": {
   "display_name": "Python 3",
   "language": "python",
   "name": "python3"
  },
  "language_info": {
   "codemirror_mode": {
    "name": "ipython",
    "version": 3
   },
   "file_extension": ".py",
   "mimetype": "text/x-python",
   "name": "python",
   "nbconvert_exporter": "python",
   "pygments_lexer": "ipython3",
   "version": "3.7.3"
  }
 },
 "nbformat": 4,
 "nbformat_minor": 4
}
