{
 "cells": [
  {
   "cell_type": "code",
   "execution_count": 1,
   "metadata": {},
   "outputs": [],
   "source": [
    "import cv2\n",
    "import numpy as np\n",
    "%matplotlib inline\n",
    "import matplotlib.pyplot as plt\n",
    "from utils import *\n",
    "import os\n",
    "from scipy.sparse import lil_matrix\n",
    "from scipy.sparse import linalg\n",
    "from scipy.sparse import csr_matrix\n",
    "import pdb"
   ]
  },
  {
   "cell_type": "code",
   "execution_count": 74,
   "metadata": {
    "scrolled": true
   },
   "outputs": [
    {
     "name": "stdout",
     "output_type": "stream",
     "text": [
      "img shape  (119, 110, 3)\n",
      "toy_img shape  (119, 110, 3)\n",
      "toy_img new shape  (119, 110, 3)\n"
     ]
    },
    {
     "data": {
      "text/plain": [
       "<matplotlib.image.AxesImage at 0x7ff568002358>"
      ]
     },
     "execution_count": 74,
     "metadata": {},
     "output_type": "execute_result"
    },
    {
     "data": {
      "image/png": "[encoded data removed]",
      "text/plain": [
       "<Figure size 432x288 with 1 Axes>"
      ]
     },
     "metadata": {
      "needs_background": "light"
     },
     "output_type": "display_data"
    }
   ],
   "source": [
    "img = cv2.imread('samples/toy_problem.png')\n",
    "print(\"img shape \", img.shape)\n",
    "toy_img = cv2.cvtColor(img, cv2.COLOR_BGR2RGB)\n",
    "print(\"toy_img shape \", img.shape)\n",
    "toy_img = cv2.cvtColor(toy_img, cv2.COLOR_BGR2GRAY).astype('double') / 255.0\n",
    "print(\"toy_img new shape \", img.shape)\n",
    "plt.imshow(toy_img, cmap=\"gray\")"
   ]
  },
  {
   "cell_type": "markdown",
   "metadata": {},
   "source": [
    "## Part 1 Toy Problem (20 pts)"
   ]
  },
  {
   "cell_type": "code",
   "execution_count": 104,
   "metadata": {},
   "outputs": [],
   "source": [
    "def toy_reconstruct(toy_img):\n",
    "    \"\"\"\n",
    "    The implementation for gradient domain processing is not complicated, but it is easy to make a mistake, so let's start with a toy example. Reconstruct this image from its gradient values, plus one pixel intensity. Denote the intensity of the source image at (x, y) as s(x,y) and the value to solve for as v(x,y). For each pixel, then, we have two objectives:\n",
    "    1. minimize (v(x+1,y)-v(x,y) - (s(x+1,y)-s(x,y)))^2\n",
    "    2. minimize (v(x,y+1)-v(x,y) - (s(x,y+1)-s(x,y)))^2\n",
    "    Note that these could be solved while adding any constant value to v, so we will add one more objective:\n",
    "    3. minimize (v(1,1)-s(1,1))^2\n",
    "    \n",
    "    :param toy_img: numpy.ndarray\n",
    "    \"\"\"\n",
    "    print(\"toy_image: \", toy_img.shape)\n",
    "    im_h, im_w = toy_img.shape\n",
    "    im2var = np.arange(im_h * im_w).reshape(im_h, im_w) # value is transposed??\n",
    "\n",
    "    print(\"im_h, im_w \", im_h, im_w)\n",
    "    print(\"im2var shape \", im2var.shape)\n",
    "    print(\"toy_img shape \", toy_img.shape)\n",
    "    # Objective 1\n",
    "    #  e = e + 1\n",
    "    # A[e][im2var[y][x+1] = 1\n",
    "    # A[e][im2var[y][x]] = -1\n",
    "    # b[e] = im[y][x+1] - im[y][x]\n",
    "    \n",
    "    # A matrix bounds im_h * im_w\n",
    "    \n",
    "    sparse_h = 2 * im_h * im_w + 1\n",
    "    sparse_w = im_h * im_w\n",
    "    A = lil_matrix((sparse_h, sparse_w), dtype = np.float64)\n",
    "    print(\"A \", A.shape)\n",
    "    b = np.zeros(sparse_h, np.float64)\n",
    "    print(\"b \", b.shape)\n",
    "    \n",
    "    e = 0\n",
    "    A[e, im2var[0][0]] = 1\n",
    "    b[e] = toy_img[0][0]\n",
    "#     pdb.set_trace()\n",
    "    for y in range(im_h): #im2var.shape[0])\n",
    "        for x in range(im_w): #im2var.shape[1])\n",
    "\n",
    "            # Need to handle border cases. x == im_w-1 and y == im_h-1\n",
    "            #Objective 1\n",
    "            e = e + 1\n",
    "            if(x != im_w-1):\n",
    "                A[e, im2var[y][x+1]] = 1\n",
    "                A[e, im2var[y][x]] = -1\n",
    "                b[e] = toy_img[y][x+1] - toy_img[y][x]\n",
    "            else:\n",
    "                A[e, im2var[y][x]] = -1\n",
    "                b[e] = -toy_img[y][x]\n",
    "\n",
    "            #Objective 2\n",
    "            e = e + 1\n",
    "            if(y != im_h-1):\n",
    "                A[e, im2var[y+1][x]] = 1\n",
    "                A[e, im2var[y][x]] = -1\n",
    "                b[e] = toy_img[y+1][x] - toy_img[y][x]\n",
    "            else:\n",
    "                A[e, im2var[y][x]] = -1\n",
    "                b[e] = -toy_img[y][x]\n",
    "    \n",
    "    v = linalg.lsqr(csr_matrix(A), b)\n",
    "    print(\"v[0] shape is \", len(v[0]))\n",
    "    print(\"v shape is \", len(v))\n",
    "    res = v[0].reshape(im_h, im_w)\n",
    "    print(\"res.shape is \", res.shape)\n",
    "    return res"
   ]
  },
  {
   "cell_type": "code",
   "execution_count": 105,
   "metadata": {},
   "outputs": [
    {
     "name": "stdout",
     "output_type": "stream",
     "text": [
      "toy_image:  (119, 110)\n",
      "im_h, im_w  119 110\n",
      "im2var shape  (119, 110)\n",
      "toy_img shape  (119, 110)\n",
      "A  (26181, 13090)\n",
      "b  (26181,)\n",
      "v[0] shape is  13090\n",
      "v shape is  10\n",
      "res.shape is  (119, 110)\n",
      "toy_img  [[0.34509804 0.34509804 0.34509804 ... 0.34509804 0.34509804 0.34509804]\n",
      " [0.34509804 0.34509804 0.34509804 ... 0.34509804 0.34509804 0.34509804]\n",
      " [0.34509804 0.34509804 0.34509804 ... 0.34509804 0.34509804 0.34509804]\n",
      " ...\n",
      " [0.34509804 0.34509804 0.34509804 ... 0.34509804 0.34509804 0.34509804]\n",
      " [0.34509804 0.34509804 0.34509804 ... 0.34509804 0.34509804 0.34509804]\n",
      " [0.34509804 0.34509804 0.34509804 ... 0.34509804 0.34509804 0.34509804]]\n",
      "im_out  [[0.34509901 0.3450995  0.34509975 ... 0.34509702 0.34509737 0.3450977 ]\n",
      " [0.34509952 0.34509968 0.34509985 ... 0.345097   0.34509736 0.3450977 ]\n",
      " [0.34509983 0.34509991 0.34509998 ... 0.34509704 0.34509733 0.34509768]\n",
      " ...\n",
      " [0.34509823 0.34509821 0.34509817 ... 0.34509799 0.34509799 0.34509801]\n",
      " [0.34509816 0.34509811 0.34509807 ... 0.34509803 0.34509799 0.34509802]\n",
      " [0.34509807 0.34509806 0.34509804 ... 0.34509803 0.34509801 0.34509802]]\n",
      "Error is:  0.0001901762385198699\n"
     ]
    }
   ],
   "source": [
    "im_out = toy_reconstruct(toy_img)\n",
    "# print(\"toy_img \", toy_img)\n",
    "# print(\"im_out \", im_out)\n",
    "if im_out.any():\n",
    "    print(\"Error is: \", np.sqrt(((im_out - toy_img)**2).sum()))"
   ]
  },
  {
   "cell_type": "code",
   "execution_count": 43,
   "metadata": {},
   "outputs": [
    {
     "data": {
      "text/plain": [
       "<matplotlib.image.AxesImage at 0x7ff567c2cc18>"
      ]
     },
     "execution_count": 43,
     "metadata": {},
     "output_type": "execute_result"
    },
    {
     "data": {
      "image/png": "[encoded data removed]",
      "text/plain": [
       "<Figure size 432x288 with 1 Axes>"
      ]
     },
     "metadata": {
      "needs_background": "light"
     },
     "output_type": "display_data"
    }
   ],
   "source": [
    "plt.imshow(im_out, cmap='gray')"
   ]
  },
  {
   "cell_type": "markdown",
   "metadata": {},
   "source": [
    "## Preparation"
   ]
  },
  {
   "cell_type": "code",
   "execution_count": null,
   "metadata": {},
   "outputs": [],
   "source": [
    "# Feel free to change image\n",
    "background_img = cv2.cvtColor(cv2.imread('samples/im2.JPG'), cv2.COLOR_BGR2RGB).astype('double') / 255.0 \n",
    "plt.figure()\n",
    "plt.imshow(background_img)"
   ]
  },
  {
   "cell_type": "code",
   "execution_count": null,
   "metadata": {},
   "outputs": [],
   "source": [
    "# Feel free to change image\n",
    "object_img = cv2.cvtColor(cv2.imread('samples/penguin-chick.jpeg'), cv2.COLOR_BGR2RGB).astype('double') / 255.0 \n",
    "import matplotlib.pyplot as plt\n",
    "%matplotlib notebook\n",
    "mask_coords = specify_mask(object_img)"
   ]
  },
  {
   "cell_type": "code",
   "execution_count": null,
   "metadata": {},
   "outputs": [],
   "source": [
    "xs = mask_coords[0]\n",
    "ys = mask_coords[1]\n",
    "%matplotlib inline\n",
    "import matplotlib.pyplot as plt\n",
    "plt.figure()\n",
    "mask = get_mask(ys, xs, object_img)"
   ]
  },
  {
   "cell_type": "code",
   "execution_count": null,
   "metadata": {},
   "outputs": [],
   "source": [
    "%matplotlib notebook\n",
    "import matplotlib.pyplot as plt\n",
    "bottom_center = specify_bottom_center(background_img)"
   ]
  },
  {
   "cell_type": "code",
   "execution_count": null,
   "metadata": {},
   "outputs": [],
   "source": [
    "%matplotlib inline\n",
    "import matplotlib.pyplot as plt\n",
    "cropped_object, object_mask = align_source(object_img, mask, background_img, bottom_center)"
   ]
  },
  {
   "cell_type": "markdown",
   "metadata": {},
   "source": [
    "## Part 2 Poisson Blending (50 pts)"
   ]
  },
  {
   "cell_type": "code",
   "execution_count": null,
   "metadata": {},
   "outputs": [],
   "source": [
    "def poisson_blend(cropped_object, object_mask, background_img):\n",
    "    \"\"\"\n",
    "    :param cropped_object: numpy.ndarray One you get from align_source\n",
    "    :param object_mask: numpy.ndarray One you get from align_source\n",
    "    :param background_img: numpy.ndarray \n",
    "    \"\"\"\n",
    "    #TO DO \n",
    "    pass"
   ]
  },
  {
   "cell_type": "code",
   "execution_count": null,
   "metadata": {},
   "outputs": [],
   "source": [
    "im_blend = poisson_blend(cropped_object, object_mask, background_img)\n",
    "if im_blend.any():\n",
    "    %matplotlib inline\n",
    "    import matplotlib.pyplot as plt\n",
    "    plt.imshow(im_blend)"
   ]
  },
  {
   "cell_type": "markdown",
   "metadata": {},
   "source": [
    "## Part 3 Mixed Gradients (20 pts)"
   ]
  },
  {
   "cell_type": "code",
   "execution_count": null,
   "metadata": {},
   "outputs": [],
   "source": [
    "def mix_blend(cropped_object, object_mask, background_img):\n",
    "    \"\"\"\n",
    "    :param cropped_object: numpy.ndarray One you get from align_source\n",
    "    :param object_mask: numpy.ndarray One you get from align_source\n",
    "    :param background_img: numpy.ndarray \n",
    "    \"\"\"\n",
    "    #TO DO \n",
    "    pass"
   ]
  },
  {
   "cell_type": "code",
   "execution_count": null,
   "metadata": {},
   "outputs": [],
   "source": [
    "im_mix = mix_blend(cropped_object, object_mask, background_img)\n",
    "if im_mix.any():\n",
    "    %matplotlib inline\n",
    "    import matplotlib.pyplot as plt\n",
    "    plt.imshow(im_mix)"
   ]
  },
  {
   "cell_type": "markdown",
   "metadata": {},
   "source": [
    "# Bells & Whistles (Extra Points)"
   ]
  },
  {
   "cell_type": "markdown",
   "metadata": {},
   "source": [
    "## Color2Gray (20 pts)"
   ]
  },
  {
   "cell_type": "code",
   "execution_count": null,
   "metadata": {},
   "outputs": [],
   "source": [
    "def color2gray(img):\n",
    "    pass"
   ]
  },
  {
   "cell_type": "markdown",
   "metadata": {},
   "source": [
    "## Laplacian pyramid blending (20 pts)"
   ]
  },
  {
   "cell_type": "code",
   "execution_count": null,
   "metadata": {},
   "outputs": [],
   "source": [
    "def laplacian_blend(img1, img2):\n",
    "    pass"
   ]
  },
  {
   "cell_type": "markdown",
   "metadata": {},
   "source": [
    "## More gradient domain processing (up to 20 pts)"
   ]
  },
  {
   "cell_type": "code",
   "execution_count": null,
   "metadata": {},
   "outputs": [],
   "source": []
  }
 ],
 "metadata": {
  "kernelspec": {
   "display_name": "Python 3",
   "language": "python",
   "name": "python3"
  },
  "language_info": {
   "codemirror_mode": {
    "name": "ipython",
    "version": 3
   },
   "file_extension": ".py",
   "mimetype": "text/x-python",
   "name": "python",
   "nbconvert_exporter": "python",
   "pygments_lexer": "ipython3",
   "version": "3.7.3"
  }
 },
 "nbformat": 4,
 "nbformat_minor": 2
}
