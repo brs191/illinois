{
 "cells": [
  {
   "cell_type": "markdown",
   "metadata": {},
   "source": [
    "# Programming Project #5: Video Stitching and Processing "
   ]
  },
  {
   "cell_type": "markdown",
   "metadata": {},
   "source": [
    "## CS445: Computational Photography - Fall 2019"
   ]
  },
  {
   "cell_type": "markdown",
   "metadata": {},
   "source": [
    "### Part I: Stitch two key frames <img src=\"images/project_5/image005.jpg\" alt=\"Drawing\" style=\"float: right; width: 450px\"/>\n",
    "\n",
    "#### This involves:\n",
    "1. compute homography H between two frames; \n",
    "2. project each frame onto the same surface;\n",
    "3. blend the surfaces.\n",
    "\n",
    "\n",
    "\n",
    "Check that your homography is correct by plotting four points that form a square in frame 270 and their projections in each image, like this:\n",
    "<p>\n",
    "    <img src=\"images/project_5/image002.jpg\" alt=\"Drawing\"/>\n",
    "    <img src=\"images/project_5/image004.jpg\" alt=\"Drawing\"/>\n",
    "</p>"
   ]
  },
  {
   "cell_type": "code",
   "execution_count": null,
   "metadata": {},
   "outputs": [],
   "source": [
    "# !pip install opencv-python==3.4.2.17\n",
    "# !pip install opencv-contrib-python==3.4.2.17\n",
    "\n",
    "import cv2\n",
    "import numpy as np\n",
    "from numpy.linalg import svd, inv\n",
    "import utils\n",
    "%matplotlib inline\n",
    "from matplotlib import pyplot as plt\n",
    "print(cv2.__version__)"
   ]
  },
  {
   "cell_type": "code",
   "execution_count": null,
   "metadata": {},
   "outputs": [],
   "source": [
    "# images location\n",
    "# im1 = './images/input/frames/f0001.jpg'\n",
    "im1 = './images/input/frames/f0450.jpg'\n",
    "im2 = './images/input/frames/f0270.jpg'\n",
    "\n",
    "# Load an color image in grayscale\n",
    "im1 = cv2.imread(im1)\n",
    "im2 = cv2.imread(im2)"
   ]
  },
  {
   "cell_type": "code",
   "execution_count": null,
   "metadata": {},
   "outputs": [],
   "source": [
    "def auto_homography(Ia,Ib, homography_func=None,normalization_func=None):\n",
    "    '''\n",
    "    Computes a homography that maps points from Ia to Ib\n",
    "\n",
    "    Input: Ia and Ib are images\n",
    "    Output: H is the homography\n",
    "\n",
    "    '''\n",
    "    if Ia.dtype == 'float32' and Ib.dtype == 'float32':\n",
    "        Ia = (Ia*255).astype(np.uint8)\n",
    "        Ib = (Ib*255).astype(np.uint8)\n",
    "    \n",
    "    Ia_gray = cv2.cvtColor(Ia,cv2.COLOR_BGR2GRAY)\n",
    "    Ib_gray = cv2.cvtColor(Ib,cv2.COLOR_BGR2GRAY)\n",
    "\n",
    "    # Initiate SIFT detector\n",
    "    sift = cv2.xfeatures2d.SIFT_create()\n",
    "    \n",
    "    # find the keypoints and descriptors with SIFT\n",
    "    kp_a, des_a = sift.detectAndCompute(Ia_gray,None)\n",
    "    kp_b, des_b = sift.detectAndCompute(Ib_gray,None)    \n",
    "    \n",
    "    # BFMatcher with default params\n",
    "    bf = cv2.BFMatcher()\n",
    "    matches = bf.knnMatch(des_a,des_b, k=2)\n",
    "\n",
    "    # Apply ratio test\n",
    "    good = []\n",
    "    for m,n in matches:\n",
    "        if m.distance < 0.75*n.distance:\n",
    "            good.append(m)\n",
    "   \n",
    "    numMatches = int(len(good))\n",
    "\n",
    "    matches = good\n",
    "\n",
    "    # Xa and Xb are 3xN matrices that contain homogeneous coordinates for the N\n",
    "    # matching points for each image\n",
    "    Xa = np.ones((3,numMatches))\n",
    "    Xb = np.ones((3,numMatches))\n",
    "    \n",
    "    for idx, match_i in enumerate(matches):\n",
    "        Xa[:,idx][0:2] = kp_a[match_i.queryIdx].pt\n",
    "        Xb[:,idx][0:2] = kp_b[match_i.trainIdx].pt\n",
    "\n",
    "    ## RANSAC\n",
    "    niter = 1000\n",
    "    best_score = 0\n",
    "\n",
    "    for t in range(niter):\n",
    "        # estimate homography\n",
    "        subset = np.random.choice(numMatches, 4, replace=False)\n",
    "        pts1 = Xa[:,subset]\n",
    "        pts2 = Xb[:,subset]\n",
    "        \n",
    "        H_t = homography_func(pts1, pts2, normalization_func) # edit helper code below (computeHomography)\n",
    "\n",
    "        # score homography\n",
    "        Xb_ = np.dot(H_t, Xa) # project points from first image to second using H\n",
    "        du = Xb_[0,:]/Xb_[2,:] - Xb[0,:]/Xb[2,:]\n",
    "        dv = Xb_[1,:]/Xb_[2,:] - Xb[1,:]/Xb[2,:]\n",
    "\n",
    "        ok_t = np.sqrt(du**2 + dv**2) < 1  # you may need to play with this threshold\n",
    "        score_t = sum(ok_t)\n",
    "\n",
    "        if score_t > best_score:\n",
    "            best_score = score_t\n",
    "            H = H_t\n",
    "            in_idx = ok_t\n",
    "            pt1 = pts1\n",
    "            pt2 = pts2\n",
    "    \n",
    "    print('best score: {:02f}'.format(best_score))\n",
    "\n",
    "    # Optionally, you may want to re-estimate H based on inliers\n",
    "\n",
    "    return H"
   ]
  },
  {
   "cell_type": "code",
   "execution_count": null,
   "metadata": {},
   "outputs": [],
   "source": [
    "def computeHomography(pts1, pts2,normalization_func=None):\n",
    "    '''\n",
    "    Compute homography that maps from pts1 to pts2 using SVD\n",
    "     \n",
    "    Input: pts1 and pts2 are 3xN matrices for N points in homogeneous\n",
    "    coordinates. \n",
    "    \n",
    "    Output: H is a 3x3 matrix, such that pts2~=H*pts1\n",
    "    '''\n",
    "#     print(\"pts1.shape is \", pts1.shape)\n",
    "#     print(\"pts1 is \", pts1)\n",
    "    N = pts1.shape[1]\n",
    "    A = np.zeros((2*N, 9))\n",
    "\n",
    "    for i in range(N):\n",
    "        x = pts1[:, i]\n",
    "        xi = pts2[:, i]\n",
    "        u, v = x[0], x[1]\n",
    "        ui, vi = xi[0], xi[1]\n",
    "        A[2*i, :] = np.array([-u, -v, -1, 0, 0, 0, u*ui, v*ui, ui])\n",
    "        A[2*i+1, :] = np.array([0, 0, 0, -u, -v, -1, u*vi, v*vi, vi])\n",
    "        \n",
    "    u, s, vt = np.linalg.svd(A)\n",
    "    h = vt[vt.shape[0]-1, :]\n",
    "#     h = vt[:, -1]\n",
    "    return np.reshape(h, (3,3))\n",
    "#     raise Exception(\"TODO in computeHomography() not implemented\")\n"
   ]
  },
  {
   "cell_type": "code",
   "execution_count": null,
   "metadata": {},
   "outputs": [],
   "source": [
    "# pt1, pt2, H = auto_homography(im1, im2, computeHomography)\n",
    "# Computes a homography that maps points from Ia to Ib \n",
    "H = auto_homography(im1, im2, computeHomography) #h (450, 270)"
   ]
  },
  {
   "cell_type": "code",
   "execution_count": null,
   "metadata": {},
   "outputs": [],
   "source": [
    "# plot the interest points on im1 and im2 (450)\n",
    "plotx_im1 = np.array([100, 240, 240, 100, 100])\n",
    "ploty_im1 = np.array([50, 50, 200, 200, 50])\n",
    "plotz_im1 = np.ones(5)\n",
    "plot_im1 = np.array([plotx_im1, ploty_im1, plotz_im1])\n",
    "\n",
    "plot_im2 = np.dot(H, plot_im1)\n",
    "plot_im2 = plot_im2 / plot_im2[-1]\n",
    "\n",
    "fig = plt.figure()\n",
    "ax1 = fig.add_subplot(221)\n",
    "plt.imshow(cv2.cvtColor(im1, cv2.COLOR_BGR2RGB))\n",
    "plt.title('frame 450')\n",
    "\n",
    "ax2 = fig.add_subplot(222)\n",
    "plt.imshow(cv2.cvtColor(im2, cv2.COLOR_BGR2RGB))\n",
    "plt.title('frame 270')\n",
    "\n",
    "ax3 = fig.add_subplot(223)\n",
    "plt.imshow(cv2.cvtColor(im1, cv2.COLOR_BGR2RGB))\n",
    "ax3.plot(plot_im1[0], plot_im1[1], 'b')\n",
    "\n",
    "ax4 = fig.add_subplot(224)\n",
    "plt.imshow(cv2.cvtColor(im2, cv2.COLOR_BGR2RGB))\n",
    "ax4.plot(plot_im2[0], plot_im2[1], 'b')"
   ]
  },
  {
   "cell_type": "code",
   "execution_count": null,
   "metadata": {},
   "outputs": [],
   "source": [
    "projectedWidth = 900\n",
    "projectedHeight = 450\n",
    "\n",
    "sourceHomography = H\n",
    "refHomography = np.identity(3)\n",
    "\n",
    "projectedSource = cv2.warpPerspective(im1, sourceHomography, (projectedWidth, projectedHeight))\n",
    "projectedReference = cv2.warpPerspective(im2, refHomography, (projectedWidth, projectedHeight))\n",
    "\n",
    "blendedOutput = utils.blendImages(projectedSource, projectedReference)\n",
    "canvas_height = 560\n",
    "canvas_width = 1080\n",
    "blended_canvas = np.zeros((canvas_height, canvas_width, 3), 'uint8')\n",
    "img_w = blendedOutput.shape[1]\n",
    "img_h = blendedOutput.shape[0]\n",
    "\n",
    "x_offset = int(canvas_height/2 - (img_h/2))\n",
    "y_offset = int((canvas_width/2)-(img_w/2))\n",
    "\n",
    "blended_canvas[x_offset:x_offset+blendedOutput.shape[0], y_offset:y_offset+blendedOutput.shape[1]] = blendedOutput\n",
    "plt.figure(figsize=(40,5))\n",
    "plt.imshow(cv2.cvtColor(blended_canvas, cv2.COLOR_BGR2RGB))\n",
    "plt.title(\"blended\")"
   ]
  },
  {
   "cell_type": "markdown",
   "metadata": {},
   "source": [
    "### Part II: Panorama using five key frames\n",
    "\n",
    "In this part you will produce a panorama using five key frames. Let's determine frames [90, 270, 450, 630, 810] as key frames. The goal is to map all the five frames onto the plane corresponding to frame 450 (that we also call the _reference frame_). For the frames 270 and 630 you can follow the instructions in part 1.\n",
    "\n",
    "<img src=\"images/project_5/header.jpg\" alt=\"Drawing\" style=\"float: center; width: 500px\"/>\n",
    "\n",
    "Mapping frame 90 to frame 450 is difficult because they share very little area. Therefore you need to perform a two stage mapping by using frame 270 as a guide. Compute one projection from 90 to 270 and one from 270 to 450 and multiply the two matrices. This produces a projection from 90 to 450 even though these frames have very little area in common\n",
    "\n"
   ]
  },
  {
   "cell_type": "code",
   "execution_count": null,
   "metadata": {},
   "outputs": [],
   "source": [
    "import cv2\n",
    "import numpy as np"
   ]
  },
  {
   "cell_type": "code",
   "execution_count": null,
   "metadata": {},
   "outputs": [],
   "source": [
    "fig = plt.figure(figsize=(60,10))\n",
    "\n",
    "projectedWidth = 1600\n",
    "projectedHeight = 700\n",
    "\n",
    "img_90 = cv2.imread('./images/input/frames/f0090.jpg')\n",
    "img_270 = cv2.imread('./images/input/frames/f0270.jpg')\n",
    "img_450 = cv2.imread('./images/input/frames/f0450.jpg')\n",
    "\n",
    "H_90 = auto_homography(img_90, img_270, computeHomography)\n",
    "H_270 = auto_homography(img_270, img_450, computeHomography)\n",
    "left = H_90.dot(H_270)\n",
    "\n",
    "tx = 600\n",
    "ty = 100\n",
    "H_t = np.array([[1,0,tx], [0,1,ty], [0,0,1]])\n",
    "\n",
    "I = np.identity(3)\n",
    "projected_90 = cv2.warpPerspective(img_90, H_t.dot(left), (projectedWidth, projectedHeight))\n",
    "projected_270 = cv2.warpPerspective(img_270, H_t.dot(H_270), (projectedWidth, projectedHeight))\n",
    "projected_450 = cv2.warpPerspective(img_450, H_t.dot(I), (projectedWidth, projectedHeight))\n",
    "\n",
    "blended_270 = utils.blendImages(projected_90, projected_270)\n",
    "blended_450_left = utils.blendImages(blended_270, projected_450)\n",
    "axes1 = fig.add_subplot(121)\n",
    "plt.imshow(cv2.cvtColor(blended_450_left, cv2.COLOR_BGR2RGB))\n",
    "plt.title('blended')"
   ]
  },
  {
   "cell_type": "code",
   "execution_count": null,
   "metadata": {},
   "outputs": [],
   "source": [
    "master_frames =[90, 270, 450, 630, 810]\n",
    "reference_frame = 450\n",
    "reference_idx = master_frames.index(reference_frame)\n",
    "\n",
    "img_90 = cv2.imread('./images/input/frames/f0090.jpg')\n",
    "img_270 = cv2.imread('./images/input/frames/f0270.jpg')\n",
    "img_450 = cv2.imread('./images/input/frames/f0450.jpg')\n",
    "img_630 = cv2.imread('./images/input/frames/f0630.jpg')\n",
    "img_810 = cv2.imread('./images/input/frames/f0810.jpg')\n",
    "\n",
    "H_810 = auto_homography(img_810, img_630, computeHomography)\n",
    "H_630 = auto_homography(img_630, img_450, computeHomography)\n",
    "right = H_810.dot(H_630)\n",
    "\n",
    "I = np.identity(3)\n",
    "projected_810 = cv2.warpPerspective(img_810, H_t.dot(right), (projectedWidth, projectedHeight))\n",
    "projected_630 = cv2.warpPerspective(img_630, H_t.dot(H_630), (projectedWidth, projectedHeight))\n",
    "projected_450 = cv2.warpPerspective(img_450, H_t.dot(I), (projectedWidth, projectedHeight))\n",
    "\n",
    "blended_630 = utils.blendImages(projected_810, projected_630)\n",
    "blended_450_right = utils.blendImages(blended_630, projected_450)\n",
    "fig = plt.figure(figsize=(60,10))\n",
    "axes1 = fig.add_subplot(121)\n",
    "plt.imshow(cv2.cvtColor(blended_450_right, cv2.COLOR_BGR2RGB))\n",
    "plt.title('blended')"
   ]
  },
  {
   "cell_type": "code",
   "execution_count": null,
   "metadata": {},
   "outputs": [],
   "source": [
    "fig = plt.figure(figsize=(60,10))\n",
    "\n",
    "final_blend = utils.blendImages(blended_450_left, blended_450_right)\n",
    "plt.imshow(cv2.cvtColor(final_blend, cv2.COLOR_BGR2RGB))"
   ]
  },
  {
   "cell_type": "markdown",
   "metadata": {},
   "source": [
    "### Part 3: Map the video to the reference plane"
   ]
  },
  {
   "cell_type": "code",
   "execution_count": null,
   "metadata": {},
   "outputs": [],
   "source": [
    "import os\n",
    "import cv2\n",
    "import numpy as np\n",
    "import matplotlib.pyplot as plt\n",
    "from math import floor"
   ]
  },
  {
   "cell_type": "code",
   "execution_count": null,
   "metadata": {},
   "outputs": [],
   "source": [
    "# dir_frames = 'images/input/frames'\n",
    "dir_frames = 'images/input/frames'\n",
    "filenames = []\n",
    "filesinfo = os.scandir(dir_frames)"
   ]
  },
  {
   "cell_type": "code",
   "execution_count": null,
   "metadata": {},
   "outputs": [],
   "source": [
    "filenames = [f.path for f in filesinfo if f.name.endswith(\".jpg\")]\n",
    "filenames.sort(key=lambda f: int(''.join(filter(str.isdigit, f))))"
   ]
  },
  {
   "cell_type": "code",
   "execution_count": null,
   "metadata": {},
   "outputs": [],
   "source": [
    "frameCount = len(filenames)\n",
    "print(\"frameCount \", frameCount)\n",
    "print(filenames)\n",
    "frameHeight, frameWidth, frameChannels = cv2.imread(filenames[0]).shape\n",
    "frames = np.zeros((frameCount, frameHeight, frameWidth, frameChannels),dtype=np.float32)"
   ]
  },
  {
   "cell_type": "code",
   "execution_count": null,
   "metadata": {},
   "outputs": [],
   "source": [
    "for idx, file_i in enumerate(filenames):\n",
    "    frames[idx] = cv2.cvtColor(cv2.imread(file_i), cv2.COLOR_BGR2RGB) / 255.0\n",
    "    \n",
    "projectedWidth = 1600\n",
    "projectedHeight = 700\n",
    "noOfFrames = len(frames)\n",
    "\n",
    "tx = 600\n",
    "ty = 100\n",
    "H_t = np.array([[1,0,tx], [0,1,ty], [0,0,1]])\n"
   ]
  },
  {
   "cell_type": "code",
   "execution_count": null,
   "metadata": {},
   "outputs": [],
   "source": [
    "# create homographies of key frames\n",
    "img_90 = cv2.imread('./images/input/frames/f0090.jpg')\n",
    "img_270 = cv2.imread('./images/input/frames/f0270.jpg')\n",
    "img_450 = cv2.imread('./images/input/frames/f0450.jpg')\n",
    "img_630 = cv2.imread('./images/input/frames/f0630.jpg')\n",
    "img_810 = cv2.imread('./images/input/frames/f0810.jpg')\n",
    "\n",
    "H_90_270 = auto_homography(img_90, img_270, computeHomography)\n",
    "H_270_450 = auto_homography(img_270, img_450, computeHomography)\n",
    "H_810_630 = auto_homography(img_810, img_630, computeHomography)\n",
    "H_630_450 = auto_homography(img_630, img_450, computeHomography)\n",
    "\n",
    "H_90_450 = H_90_270.dot(H_270_450)\n",
    "H_810_450 = H_810_630.dot(H_630_450)\n",
    "\n",
    "# use key frame homographies for warpPerspective in the range\n",
    "for idx, file_i in enumerate(filenames):\n",
    "    img = cv2.imread(file_i)\n",
    "    if (idx < 90): # from 1 t0 90\n",
    "        H = auto_homography(img, img_90, computeHomography)\n",
    "        H_warped = H.dot(H_90_270)\n",
    "        projection = cv2.warpPerspective(img, H_t.dot(H_warped), (projectedWidth, projectedHeight))\n",
    "    elif (idx >= 90) and (idx < 270): # from 90 to 270\n",
    "        H = auto_homography(img, img_270, computeHomography)\n",
    "        H_warped = H.dot(H_270_450)\n",
    "        projection = cv2.warpPerspective(img, H_t.dot(H_warped), (projectedWidth, projectedHeight))\n",
    "    elif (idx >= 270) and (idx < 450): # from 270 to 450\n",
    "        H = auto_homography(img, img_450, computeHomography)\n",
    "        projection = cv2.warpPerspective(img, H_t.dot(H), (projectedWidth, projectedHeight))\n",
    "    elif (idx >= 450) and (idx < 630): # from 450 to 630\n",
    "        H = auto_homography(img, img_450, computeHomography)\n",
    "        projection = cv2.warpPerspective(img, H_t.dot(H), (projectedWidth, projectedHeight))\n",
    "    elif (idx >= 630) and (idx < 810): # from 630 to 810\n",
    "        H = auto_homography(img, img_630, computeHomography)\n",
    "        H_warped = H.dot(H_630_450)\n",
    "        projection = cv2.warpPerspective(img, H_t.dot(H_warped), (projectedWidth, projectedHeight))\n",
    "    elif (idx >= 810):\n",
    "        H = auto_homography(img, img_810, computeHomography)\n",
    "        H_warped = H.dot(H_810_630)\n",
    "        projection = cv2.warpPerspective(img, H_t.dot(H_warped), (projectedWidth, projectedHeight))\n",
    "    \n",
    "    cv2.imwrite('./images/output/6frames/a{:04d}.jpg'.format(idx), projection)\n"
   ]
  },
  {
   "cell_type": "code",
   "execution_count": null,
   "metadata": {},
   "outputs": [],
   "source": [
    "utils.imageFolder2mpeg('./images/output/6frames', fps=30)"
   ]
  },
  {
   "cell_type": "markdown",
   "metadata": {},
   "source": [
    "### Part 4: Create background panorama\n",
    "\n",
    "In this part you will remove moving objects from the video and create a background panorama that should incorporate pixels from all the frames.\n",
    "\n",
    "In the video you produced in __part 3__ each pixel appears in several frames. You need to estimate which of the many colors correspond to the background. We take advantage of the fact that the background color is fixed while the foreground color changes frequently (because foreground moves).\n",
    "\n",
    "<img src=\"images/project_5/background.jpg\" alt=\"Drawing\" style=\"float: center; width: 500px\"/>\n",
    "\n",
    "\n",
    "For each pixel in the sequence of __part 3__, determine all valid colors (colors that come from all frames that overlap that pixel). You can experiment with different methods for determining the background color of each pixel, as discussed in class. Perform the same procedure for all pixels and generate output. The output should be a completed panorama showing only pixels of background or non-moving objects."
   ]
  },
  {
   "cell_type": "code",
   "execution_count": 2,
   "metadata": {},
   "outputs": [
    {
     "name": "stdout",
     "output_type": "stream",
     "text": [
      "./images/output/6frames/a0000.jpg\n",
      "projections  (900, 700, 1600, 3)\n"
     ]
    }
   ],
   "source": [
    "import os\n",
    "import cv2\n",
    "import numpy as np\n",
    "import matplotlib.pyplot as plt\n",
    "import scipy.ndimage\n",
    "\n",
    "# projectedWidth 1600\n",
    "# projectedHeight 700\n",
    "\n",
    "dir_frames = './images/output/6frames'\n",
    "filenames = []\n",
    "filesinfo = os.scandir(dir_frames)\n",
    "\n",
    "filenames = [f.path for f in filesinfo if f.name.endswith(\".jpg\")]\n",
    "filenames.sort(key=lambda f: int(''.join(filter(str.isdigit, f))))\n",
    "noOfFrames = len(filenames)\n",
    "\n",
    "print(filenames[0])\n",
    "frameHeight, frameWidth, frameChannels = cv2.imread(filenames[0]).shape\n",
    "projections = np.zeros((noOfFrames, frameHeight, frameWidth, frameChannels),dtype=np.float32)\n",
    "for idx, file_i in enumerate(filenames):\n",
    "    projections[idx] = cv2.cvtColor(cv2.imread(file_i), cv2.COLOR_BGR2RGB) / 255.0\n",
    "\n",
    "print(\"projections \", projections.shape)"
   ]
  },
  {
   "cell_type": "code",
   "execution_count": null,
   "metadata": {},
   "outputs": [],
   "source": [
    "proj = np.asarray(projections)\n",
    "med = np.median(proj, axis = 0)"
   ]
  },
  {
   "cell_type": "code",
   "execution_count": null,
   "metadata": {},
   "outputs": [],
   "source": [
    "plt.figure(figsize=(60,10))\n",
    "plt.imshow(median/255)"
   ]
  },
  {
   "cell_type": "markdown",
   "metadata": {},
   "source": [
    "### Part 5: Create background movie\n",
    "\n",
    "Map the background panorama to the movie coordinates. For each frame of the movie, say frame 1, you need to estimate a projection from the panorama to frame 1. Note, you should be able to re-use the homographies that you estimated in __Part 3__. Perform this for all frames and generate a movie that looks like the input movie but shows only background pixels. All moving objects that belong to the foreground must be removed."
   ]
  },
  {
   "cell_type": "code",
   "execution_count": null,
   "metadata": {},
   "outputs": [],
   "source": [
    "import os\n",
    "import cv2\n",
    "import numpy as np"
   ]
  },
  {
   "cell_type": "markdown",
   "metadata": {},
   "source": [
    "### Part 6: Create foreground movie\n",
    "\n",
    "In the background video, moving objects are removed. In each frame, those pixels that are different enough than the background color are considered foreground. For each frame determine foreground pixels and generate a movie that only includes foreground pixels."
   ]
  },
  {
   "cell_type": "code",
   "execution_count": null,
   "metadata": {},
   "outputs": [],
   "source": [
    "import os\n",
    "import cv2\n",
    "import numpy as np"
   ]
  },
  {
   "cell_type": "markdown",
   "metadata": {},
   "source": [
    "## Bells and whistles"
   ]
  },
  {
   "cell_type": "code",
   "execution_count": null,
   "metadata": {},
   "outputs": [],
   "source": []
  }
 ],
 "metadata": {
  "kernelspec": {
   "display_name": "Python 3",
   "language": "python",
   "name": "python3"
  },
  "language_info": {
   "codemirror_mode": {
    "name": "ipython",
    "version": 3
   },
   "file_extension": ".py",
   "mimetype": "text/x-python",
   "name": "python",
   "nbconvert_exporter": "python",
   "pygments_lexer": "ipython3",
   "version": "3.7.3"
  }
 },
 "nbformat": 4,
 "nbformat_minor": 4
}
